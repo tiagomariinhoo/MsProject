{
 "cells": [
  {
   "cell_type": "code",
   "execution_count": 1,
   "metadata": {
    "scrolled": true
   },
   "outputs": [],
   "source": [
    "import pandas as pd\n",
    "import numpy as np\n",
    "import math\n",
    "import xgboost as xgb\n",
    "import json\n",
    "\n",
    "from scipy import spatial\n",
    "from pymfe.mfe import MFE\n",
    "from sklearn.datasets import load_iris, load_wine, load_breast_cancer\n",
    "from sklearn.model_selection import train_test_split\n",
    "from sklearn import metrics\n",
    "from sklearn.metrics import accuracy_score\n",
    "\n",
    "from sklearn.model_selection import StratifiedKFold\n",
    "from sklearn.model_selection import cross_val_score\n",
    "from sklearn.model_selection import GridSearchCV"
   ]
  },
  {
   "cell_type": "code",
   "execution_count": 5,
   "metadata": {
    "scrolled": true
   },
   "outputs": [],
   "source": [
    "dataset_answers = []\n",
    "dataset_names = []\n",
    "dataframes = []\n",
    "meta_features_groups=['general']\n",
    "json_result = {}\n",
    "json_mfe_result = {}\n",
    "json_mfe_result['datasets'] = []\n",
    "json_result['datasets'] = []\n",
    "\n",
    "isHyperparameterTest = 0\n",
    "\n",
    "def mfe_extract(dataframe):\n",
    "    y = dataframe['target'].tolist()\n",
    "    X = dataframe.drop('target', axis=1).values\n",
    "    \n",
    "    mfe = MFE(meta_features_groups)\n",
    "    mfe.fit(X, y)\n",
    "    ft = mfe.extract()\n",
    "    \n",
    "    result = {}\n",
    "    for i in range(0, len(ft[0])):\n",
    "        if(str(ft[1][i]) != 'nan'):\n",
    "#             result.append((ft[0][i], str(ft[1][i])))\n",
    "            result[ft[0][i]] = np.float64(ft[1][i])\n",
    "    \n",
    "#     print('Result: ', result)\n",
    "    #for i in range(len(ft[0])):\n",
    "        #print(ft[0][i].ljust(30), ft[1][i])\n",
    "        \n",
    "    build_json_mfe_object(dataset_names[len(dataset_names) - 1], result)\n",
    "    \n",
    "    return result\n",
    "\n",
    "def xgboost(dataframe):\n",
    "    \n",
    "    X = dataframe[dataframe.columns[:-1]]\n",
    "    y = dataframe['target']\n",
    "    \n",
    "    estimator = xgb.XGBClassifier()    \n",
    "    # Dado o dataframe, faz um grid search com os seguintes parâmetros e retorna\n",
    "    # a melhor acurácia\n",
    "    # https://xgboost.readthedocs.io/en/latest/parameter.html\n",
    "#     parameters = {\n",
    "#         'max_depth': range(1, 11, 1), # Maximum depth = more overfit\n",
    "#         'min_child_weight': range(1, 11, 1), \n",
    "#         'gamma': [0, 0.5, 1, 1.5, 2, 5],\n",
    "#         'subsample': [0.2, 0.4, 0.5, 0.7, 1.0],\n",
    "#         'colsample_bytree': [0.2, 0.4, 0.6, 0.8, 1.0]\n",
    "#     }\n",
    "\n",
    "    # Parâmetros reduzidos\n",
    "    parameters = {\n",
    "        'max_depth': range(3, 8, 1), # Maximum depth = more overfit\n",
    "        'min_child_weight': range(1, 3, 1), \n",
    "        'gamma': [0, 0.2, 0,5, 1],\n",
    "        'subsample': [0.2, 0.5, 1.0],\n",
    "        'colsample_bytree': [0.2, 0.5, 1.0]\n",
    "    }\n",
    "    \n",
    "    default_parameters = {\n",
    "        'max_depth': [6], \n",
    "        'min_child_weight': [1], \n",
    "        'gamma': [0],\n",
    "        'subsample': [1],\n",
    "        'colsample_bytree': [1]\n",
    "    }\n",
    "    \n",
    "    X = dataframe[dataframe.columns[:-1]]\n",
    "    y = dataframe['target']\n",
    "    \n",
    "    grid_search = GridSearchCV(\n",
    "        estimator=estimator,\n",
    "        param_grid=default_parameters,\n",
    "    )\n",
    "    grid_search.fit(X, y)\n",
    "    \n",
    "    default_value = grid_search.best_score_*100\n",
    "    \n",
    "    grid_search = GridSearchCV(\n",
    "        estimator=estimator,\n",
    "        param_grid=parameters,\n",
    "    )\n",
    "    grid_search.fit(X, y)\n",
    "    \n",
    "    build_json_object(dataset_names[len(dataset_names) - 1], default_value, grid_search.best_score_*100, grid_search.best_params_)\n",
    "    #print(grid_search.best_estimator_)\n",
    "    #print(grid_search.best_score_)\n",
    "    # [melhores hiperparâmetros, acurácia]\n",
    "    return (grid_search.best_estimator_, grid_search.best_score_*100)\n",
    "    \n",
    "def params_test(dataframe):\n",
    "    # Todo: Testar mais hiperparametros\n",
    "    results = []\n",
    "    \n",
    "#     results.append(xgboost(dataframe))\n",
    "\n",
    "\n",
    "    return results\n",
    "\n",
    "def checkIfDataNameExistsInJson(data_name):\n",
    "    return False\n",
    "    file = open('result.json')\n",
    "    d = json.load(file)\n",
    "    if('datasets' in d):\n",
    "            for p in d['datasets']:\n",
    "                if(p['name'] == data_name):\n",
    "                    print(\"Já tem!\")\n",
    "                    return True\n",
    "    return False\n",
    "    \n",
    "\n",
    "# O XgBoost não lida com colunas categoricas/object\n",
    "# Este método serve para transformar as colunas categóricas em numéricas\n",
    "def toNumericalColumn(df):\n",
    "    cat_columns = df.select_dtypes(['object']).columns\n",
    "    df[cat_columns] = df[cat_columns].astype('category')\n",
    "#     df.dtypes\n",
    "    df[cat_columns] = df[cat_columns].apply(lambda x : x.cat.codes)\n",
    "    return df\n",
    "\n",
    "file = open('result.json')\n",
    "data = json.load(file)\n",
    "    \n",
    "def getDatasetInfo(name):\n",
    "    d = ''\n",
    "    for p in data['datasets']:\n",
    "        if(p['name'] == name):\n",
    "            d = p\n",
    "    return d\n",
    "\n",
    "def testHyperparams(dataframe, name):\n",
    "    d1 = getDatasetInfo(name)\n",
    "    print('Resultado como os hiperparâmetros default para ', name, ':')\n",
    "    print(d1['default_params_result'])\n",
    "    \n",
    "    for p in data['datasets']:\n",
    "        if(p['name'] == name):\n",
    "            continue\n",
    "        d2 = p\n",
    "        \n",
    "        \n",
    "    \n",
    "#     parameters = data_['params']\n",
    "#     grid_search = GridSearchCV(\n",
    "#         estimator=estimator,\n",
    "#         param_grid=default_parameters,\n",
    "#     )\n",
    "#     grid_search.fit(X, y)\n",
    "#     answer = grid_search.best_score_*100\n",
    "\n",
    "def solve(data, data_name):\n",
    "    if(checkIfDataNameExistsInJson(data_name)):\n",
    "        return ;\n",
    "    \n",
    "    dataframe = pd.DataFrame(np.c_[data['data'], data['target']],\n",
    "                  columns= np.append(data['feature_names'], ['target']))\n",
    "    dataset_names.append(data_name)\n",
    "    mfe_list = mfe_extract(dataframe)\n",
    "    \n",
    "    dataframes.append(dataframe)\n",
    "    \n",
    "#     if(isHyperparameterTest):\n",
    "#         testHyperparams(data, data_name)\n",
    "#     else:\n",
    "    dataset_answers.append((params_test(dataframe), mfe_list))"
   ]
  },
  {
   "cell_type": "code",
   "execution_count": 6,
   "metadata": {},
   "outputs": [],
   "source": [
    "# Datasets kaggle\n",
    "def solveDiabetesDataset():\n",
    "    if(checkIfDataNameExistsInJson('Diabetes')):\n",
    "        return ;\n",
    "    df_diabetes = pd.read_csv('DatasetsMestrado/diabetes.csv')\n",
    "    df_diabetes = df_diabetes.rename(columns={\"Outcome\": \"target\"})\n",
    "    \n",
    "    dataset_names.append('Diabetes')\n",
    "    dataframes.append(df_diabetes)\n",
    "    \n",
    "    mfe_list = mfe_extract(df_diabetes)\n",
    "    dataset_answers.append((params_test(df_diabetes), mfe_list))\n",
    "\n",
    "def solveBankNoteAuthenticationDataset():\n",
    "    if(checkIfDataNameExistsInJson('BankNote')):\n",
    "        return ;\n",
    "    df_bank = pd.read_csv('DatasetsMestrado/BankNote_Authentication.csv')\n",
    "    df_bank = df_bank.rename(columns={'class': 'target'})\n",
    "    dataset_names.append('BankNote')\n",
    "    dataframes.append(df_bank)\n",
    "    \n",
    "    mfe_list = mfe_extract(df_bank)\n",
    "    dataset_answers.append((params_test(df_bank), mfe_list))\n",
    "    \n",
    "def solveGlassClassification():\n",
    "    if(checkIfDataNameExistsInJson('Glass')):\n",
    "        return ;\n",
    "    df_glass = pd.read_csv('DatasetsMestrado/glass.csv')\n",
    "    df_glass = df_glass.rename(columns={'Type': 'target'})\n",
    "    \n",
    "    dataset_names.append('Glass')\n",
    "    dataframes.append(df_glass)\n",
    "    mfe_list = mfe_extract(df_glass)\n",
    "    dataset_answers.append((params_test(df_glass), mfe_list))\n",
    "    \n",
    "def solveIndianLiverPatientClassification():\n",
    "    df_indian = pd.read_csv('DatasetsMestrado/indian_liver_patient.csv')\n",
    "    df_indian = df_indian.rename(columns={'Dataset': 'target'})\n",
    "    dataset_names.append('IndianLiver')\n",
    "    \n",
    "    gender = {'Male': 1, 'Female': 0}\n",
    "    df_indian.replace(gender, inplace=True)\n",
    "    \n",
    "    dataframes.append(df_indian)\n",
    "    \n",
    "    mfe_list = mfe_extract(df_indian)\n",
    "    dataset_answers.append((params_test(df_indian), mfe_list))\n",
    "    \n",
    "def solveObesityClassification():\n",
    "    #https://archive.ics.uci.edu/ml/datasets/Estimation+of+obesity+levels+based+on+eating+habits+and+physical+condition+\n",
    "    df_obesity = pd.read_csv('DatasetsMestrado/Obesity.csv')\n",
    "    df_obesity = df_obesity.rename(columns={'NObeyesdad': 'target'})\n",
    "    dataset_names.append('ObesityLevelBasedOnEatingHabits')\n",
    "    \n",
    "    # Pegando as meta features antes de transformar as colunas para numéricas\n",
    "    mfe_list = mfe_extract(df_obesity)\n",
    "    \n",
    "    df_obesity = toNumericalColumn(df_obesity)\n",
    "    dataframes.append(df_obesity)\n",
    "    dataset_answers.append((params_test(df_obesity), mfe_list))\n",
    "    \n",
    "def solveWebsitePhishingClassification():\n",
    "    df_website = pd.read_csv('DatasetsMestrado/WebsitePhishing.csv')\n",
    "    df_website = df_website.rename(columns={'Result': 'target'})\n",
    "    dataset_names.append('WebsitePhishing')\n",
    "    \n",
    "    mfe_list = mfe_extract(df_website)\n",
    "    dataframes.append(df_website)\n",
    "    \n",
    "    dataset_answers.append((params_test(df_website), mfe_list))\n",
    "    \n",
    "def solveMuskDatasetClassification():\n",
    "    df_musk = pd.read_csv('DatasetsMestrado/MuskDataset.csv')\n",
    "    df_musk = df_musk.rename(columns={'class': 'target'})\n",
    "    dataset_names.append('Musk')\n",
    "    \n",
    "    mfe_list = mfe_extract(df_musk)\n",
    "    \n",
    "    df_musk = toNumericalColumn(df_musk)\n",
    "    dataframes.append(df_musk)\n",
    "    \n",
    "    dataset_answers.append((params_test(df_musk), mfe_list))\n",
    "    \n",
    "def solvePenbasedClassification():\n",
    "    df = pd.read_csv('DatasetsMestrado/Penbased.csv')\n",
    "    df = df.rename(columns={' 1': 'target'})\n",
    "    dataset_names.append('Penbased')\n",
    "    \n",
    "    mfe_list = mfe_extract(df)\n",
    "    dataframes.append(df)\n",
    "    \n",
    "    dataset_answers.append((params_test(df), mfe_list))\n",
    "    \n",
    "def solveVehiclesSilhouetteClassification():\n",
    "    df = pd.read_csv('DatasetsMestrado/VehiclesSilhouette.csv')\n",
    "    df = df.rename(columns={'class': 'target'})\n",
    "    dataset_names.append('VehiclesSilhouette')\n",
    "    \n",
    "    mfe_list = mfe_extract(df)\n",
    "    dataframes.append(df)\n",
    "    \n",
    "    dataset_answers.append((params_test(df), mfe_list))\n",
    "    \n",
    "def solveBankMarketingClassification():\n",
    "    df = pd.read_csv('DatasetsMestrado/BankMarketing.csv')\n",
    "    df = df.rename(columns={'deposit': 'target'})\n",
    "    dataset_names.append('BankMarketing')\n",
    "    \n",
    "    mfe_list = mfe_extract(df)\n",
    "    \n",
    "    df = toNumericalColumn(df)\n",
    "    dataframes.append(df)\n",
    "    dataset_answers.append((params_test(df), mfe_list))\n",
    "    \n",
    "def solveDevIndexClassification():\n",
    "    df = pd.read_csv('DatasetsMestrado/DevIndex.csv')\n",
    "    df = df.rename(columns={'Development Index': 'target'})\n",
    "    dataset_names.append('DevIndex')\n",
    "    \n",
    "    mfe_list = mfe_extract(df)\n",
    "    dataframes.append(df)\n",
    "    dataset_answers.append((params_test(df), mfe_list))\n",
    "\n",
    "def solveTravelInsuranceClasification():\n",
    "    df = pd.read_csv('DatasetsMestrado/TravelInsurance.csv')\n",
    "    df = df.rename(columns={'Claim': 'target'})\n",
    "    dataset_names.append('TravelInsurance')\n",
    "    col = df.pop('target')\n",
    "    df.pop('Gender')\n",
    "    df['target'] = col\n",
    "    \n",
    "    mfe_list = mfe_extract(df)\n",
    "    \n",
    "    df = toNumericalColumn(df)\n",
    "    dataframes.append(df)\n",
    "    dataset_answers.append((params_test(df), mfe_list))\n",
    "\n",
    "def solveIncomeEvaluationClassification():\n",
    "    df = pd.read_csv('DatasetsMestrado/income_evaluation.csv')\n",
    "    df = df.rename(columns={' income': 'target'})\n",
    "    dataset_names.append('IncomeEvaluation')\n",
    "    \n",
    "    mfe_list = mfe_extract(df)\n",
    "    \n",
    "    df = toNumericalColumn(df)\n",
    "    dataframes.append(df)\n",
    "    dataset_answers.append((params_test(df), mfe_list))\n"
   ]
  },
  {
   "cell_type": "code",
   "execution_count": 7,
   "metadata": {},
   "outputs": [],
   "source": [
    "def build_json_object(dataset_name, default_params_result, best_params_result, params):\n",
    "    json_result['datasets'].append({\n",
    "        'name': dataset_name,\n",
    "        'default_params_result': default_params_result,\n",
    "        'best_params_result': best_params_result,\n",
    "        'params': {\n",
    "            'max_depth': params['max_depth'],\n",
    "            'min_child_weight': params['min_child_weight'],\n",
    "            'gamma': params['gamma'],\n",
    "            'subsample': params['subsample'],\n",
    "            'colsample_bytree': params['colsample_bytree']\n",
    "        }\n",
    "    })\n",
    "\n",
    "def build_json_mfe_object(dataset_name, mfe):\n",
    "    print('dataset name: ', dataset_name)\n",
    "    print('mfe: ', mfe)\n",
    "    json_mfe_result['datasets'].append({\n",
    "        'name': dataset_name,\n",
    "        'mfe': mfe\n",
    "    })"
   ]
  },
  {
   "cell_type": "code",
   "execution_count": 8,
   "metadata": {
    "scrolled": true
   },
   "outputs": [
    {
     "name": "stdout",
     "output_type": "stream",
     "text": [
      "dataset name:  Iris\n",
      "mfe:  {'attr_conc.mean': 0.20980476831180148, 'attr_conc.sd': 0.1195879817732128, 'attr_ent.mean': 2.2771912775084115, 'attr_ent.sd': 0.06103943244855649, 'attr_to_inst': 0.02666666666666667, 'cat_to_num': 0.0, 'class_conc.mean': 0.27347384133126745, 'class_conc.sd': 0.14091096327223987, 'class_ent': 1.584962500721156, 'eq_num_attr': 1.8780672345507194, 'freq_class.mean': 0.3333333333333333, 'freq_class.sd': 0.0, 'inst_to_attr': 37.5, 'joint_ent.mean': 3.0182209990602855, 'joint_ent.sd': 0.3821875549207214, 'mut_inf.mean': 0.8439327791692818, 'mut_inf.sd': 0.4222019352579773, 'nr_attr': 4.0, 'nr_bin': 0.0, 'nr_cat': 0.0, 'nr_class': 3.0, 'nr_inst': 150.0, 'nr_num': 4.0, 'ns_ratio': 1.698308838945616}\n"
     ]
    }
   ],
   "source": [
    "# Aqui serão injetados mais datasets\n",
    "solve(load_iris(), 'Iris')"
   ]
  },
  {
   "cell_type": "code",
   "execution_count": 9,
   "metadata": {},
   "outputs": [
    {
     "name": "stdout",
     "output_type": "stream",
     "text": [
      "dataset name:  Wine\n",
      "mfe:  {'attr_conc.mean': 0.07957508423380168, 'attr_conc.sd': 0.05203653464617564, 'attr_ent.mean': 2.317270671174068, 'attr_ent.sd': 0.008810632085191748, 'attr_to_inst': 0.07303370786516854, 'cat_to_num': 0.0, 'class_conc.mean': 0.1528450520627143, 'class_conc.sd': 0.07145112425991589, 'class_ent': 1.5668222768551812, 'eq_num_attr': 3.182758001633378, 'freq_class.mean': 0.3333333333333333, 'freq_class.sd': 0.06462709335856702, 'inst_to_attr': 13.692307692307692, 'joint_ent.mean': 3.391808496603444, 'joint_ent.sd': 0.2331019435755677, 'mut_inf.mean': 0.49228445142580574, 'mut_inf.sd': 0.23706149243295327, 'nr_attr': 13.0, 'nr_bin': 0.0, 'nr_cat': 0.0, 'nr_class': 3.0, 'nr_inst': 178.0, 'nr_num': 13.0, 'ns_ratio': 3.707178267488535}\n"
     ]
    }
   ],
   "source": [
    "solve(load_wine(), 'Wine')"
   ]
  },
  {
   "cell_type": "code",
   "execution_count": 10,
   "metadata": {},
   "outputs": [
    {
     "name": "stdout",
     "output_type": "stream",
     "text": [
      "dataset name:  Breast Cancer\n",
      "mfe:  {'attr_conc.mean': 0.12540241009394565, 'attr_conc.sd': 0.15743690730463034, 'attr_ent.mean': 2.999955970180525, 'attr_ent.sd': 4.8835063889264575e-05, 'attr_to_inst': 0.05272407732864675, 'cat_to_num': 0.0, 'class_conc.mean': 0.05158464086252799, 'class_conc.sd': 0.03583982015886094, 'class_ent': 0.9526351224018599, 'eq_num_attr': 3.1052455419256693, 'freq_class.mean': 0.5, 'freq_class.sd': 0.18019417095263515, 'inst_to_attr': 18.966666666666665, 'joint_ent.mean': 3.6458085500942636, 'joint_ent.sd': 0.22568425948582174, 'mut_inf.mean': 0.306782542488121, 'mut_inf.sd': 0.22569828738894582, 'nr_attr': 30.0, 'nr_bin': 0.0, 'nr_cat': 0.0, 'nr_class': 2.0, 'nr_inst': 569.0, 'nr_num': 30.0, 'ns_ratio': 8.778770153770036}\n"
     ]
    }
   ],
   "source": [
    "solve(load_breast_cancer(), 'Breast Cancer')"
   ]
  },
  {
   "cell_type": "code",
   "execution_count": 11,
   "metadata": {},
   "outputs": [
    {
     "name": "stderr",
     "output_type": "stream",
     "text": [
      " * Warning: It is not possible make equal discretization\n"
     ]
    },
    {
     "name": "stdout",
     "output_type": "stream",
     "text": [
      "dataset name:  Diabetes\n",
      "mfe:  {'attr_conc.mean': 0.028840438796475666, 'attr_conc.sd': 0.03211053699372291, 'attr_ent.mean': 2.958105757854844, 'attr_ent.sd': 0.34168940624694744, 'attr_to_inst': 0.010416666666666666, 'cat_to_num': 0.0, 'class_conc.mean': 0.01248981695807782, 'class_conc.sd': 0.008523298017724572, 'class_ent': 0.9331343166407832, 'eq_num_attr': 12.954877983803843, 'freq_class.mean': 0.5, 'freq_class.sd': 0.21360517348343622, 'inst_to_attr': 96.0, 'joint_ent.mean': 3.8192105024836493, 'joint_ent.sd': 0.3357632924270967, 'mut_inf.mean': 0.07202957201197768, 'mut_inf.sd': 0.05160877219809383, 'nr_attr': 8.0, 'nr_bin': 0.0, 'nr_cat': 0.0, 'nr_class': 2.0, 'nr_inst': 768.0, 'nr_num': 8.0, 'ns_ratio': 40.06793467220582}\n"
     ]
    }
   ],
   "source": [
    "solveDiabetesDataset()"
   ]
  },
  {
   "cell_type": "code",
   "execution_count": 12,
   "metadata": {},
   "outputs": [
    {
     "name": "stdout",
     "output_type": "stream",
     "text": [
      "dataset name:  BankNote\n",
      "mfe:  {'attr_conc.mean': 0.07073367549921593, 'attr_conc.sd': 0.03808910374616643, 'attr_ent.mean': 3.4594097747073844, 'attr_ent.sd': 1.6114746737255955e-05, 'attr_to_inst': 0.0029154518950437317, 'cat_to_num': 0.0, 'class_conc.mean': 0.024286779730748016, 'class_conc.sd': 0.024028284464771867, 'class_ent': 0.9911281257467459, 'eq_num_attr': 4.650453395733756, 'freq_class.mean': 0.5, 'freq_class.sd': 0.07833836059792652, 'inst_to_attr': 343.0, 'joint_ent.mean': 4.2374128476031565, 'joint_ent.sd': 0.22353036055417838, 'mut_inf.mean': 0.2131250528509735, 'mut_inf.sd': 0.22354371307580517, 'nr_attr': 4.0, 'nr_bin': 0.0, 'nr_cat': 0.0, 'nr_class': 2.0, 'nr_inst': 1372.0, 'nr_num': 4.0, 'ns_ratio': 15.231830694847298}\n"
     ]
    }
   ],
   "source": [
    "solveBankNoteAuthenticationDataset()"
   ]
  },
  {
   "cell_type": "code",
   "execution_count": 13,
   "metadata": {},
   "outputs": [
    {
     "name": "stderr",
     "output_type": "stream",
     "text": [
      " * Warning: It is not possible make equal discretization\n"
     ]
    },
    {
     "name": "stdout",
     "output_type": "stream",
     "text": [
      "dataset name:  Glass\n",
      "mfe:  {'attr_conc.mean': 0.08646069983674642, 'attr_conc.sd': 0.06958254586990041, 'attr_ent.mean': 2.0168573913192267, 'attr_ent.sd': 0.620017868913917, 'attr_to_inst': 0.04205607476635514, 'cat_to_num': 0.0, 'class_conc.mean': 0.17215668455304822, 'class_conc.sd': 0.1535834270241933, 'class_ent': 2.1765339923982006, 'eq_num_attr': 6.175966711718482, 'freq_class.mean': 0.16666666666666663, 'freq_class.sd': 0.13898760091092968, 'inst_to_attr': 23.77777777777778, 'joint_ent.mean': 3.840971415476929, 'joint_ent.sd': 0.5697344535835459, 'mut_inf.mean': 0.35241996824049804, 'mut_inf.sd': 0.14905199270121083, 'nr_attr': 9.0, 'nr_bin': 0.0, 'nr_cat': 0.0, 'nr_class': 6.0, 'nr_inst': 214.0, 'nr_num': 9.0, 'ns_ratio': 4.722880577365256}\n"
     ]
    }
   ],
   "source": [
    "solveGlassClassification()"
   ]
  },
  {
   "cell_type": "code",
   "execution_count": 14,
   "metadata": {},
   "outputs": [
    {
     "name": "stderr",
     "output_type": "stream",
     "text": [
      " * Warning: It is not possible make equal discretization\n"
     ]
    },
    {
     "name": "stdout",
     "output_type": "stream",
     "text": [
      "dataset name:  IndianLiver\n",
      "mfe:  {'attr_conc.mean': 0.08824324010922074, 'attr_conc.sd': 0.1642124724453355, 'attr_ent.mean': 2.381757029490394, 'attr_ent.sd': 1.0847537410875903, 'attr_to_inst': 0.017152658662092625, 'cat_to_num': 0.0, 'class_conc.mean': 0.061421784244719856, 'class_conc.sd': 0.15432932072387165, 'class_ent': 0.8640904272487623, 'eq_num_attr': 17.118946878030346, 'freq_class.mean': 0.5, 'freq_class.sd': 0.30200615525806235, 'inst_to_attr': 58.3, 'joint_ent.mean': 3.1953717800865413, 'joint_ent.sd': 1.0639848907591336, 'mut_inf.mean': 0.050475676652615556, 'mut_inf.sd': 0.03904433027635108, 'nr_attr': 10.0, 'nr_bin': 1.0, 'nr_cat': 0.0, 'nr_class': 2.0, 'nr_inst': 583.0, 'nr_num': 10.0, 'ns_ratio': 46.18623280440909}\n"
     ]
    }
   ],
   "source": [
    "solveIndianLiverPatientClassification()"
   ]
  },
  {
   "cell_type": "code",
   "execution_count": 15,
   "metadata": {},
   "outputs": [
    {
     "name": "stderr",
     "output_type": "stream",
     "text": [
      " * Warning: It is not possible make equal discretization\n"
     ]
    },
    {
     "name": "stdout",
     "output_type": "stream",
     "text": [
      "dataset name:  ObesityLevelBasedOnEatingHabits\n",
      "mfe:  {'attr_conc.mean': 0.03275971679115075, 'attr_conc.sd': 0.05579684348292799, 'attr_ent.mean': 1.8635898668556545, 'attr_ent.sd': 1.3122305874684492, 'attr_to_inst': 0.007579346281383231, 'cat_to_num': 1.0, 'class_conc.mean': 0.12463234319268883, 'class_conc.sd': 0.0918079889589204, 'class_ent': 2.802569467267562, 'eq_num_attr': 8.471445721548022, 'freq_class.mean': 0.14285714285714285, 'freq_class.sd': 0.01271347189640241, 'inst_to_attr': 131.9375, 'joint_ent.mean': 4.335333928473868, 'joint_ent.sd': 1.1225332382326942, 'mut_inf.mean': 0.3308254056493485, 'mut_inf.sd': 0.3366486378491083, 'nr_attr': 16.0, 'nr_bin': 5.0, 'nr_cat': 8.0, 'nr_class': 7.0, 'nr_inst': 2111.0, 'nr_num': 8.0, 'ns_ratio': 4.633152215736804, 'num_to_cat': 1.0}\n"
     ]
    }
   ],
   "source": [
    "solveObesityClassification() "
   ]
  },
  {
   "cell_type": "code",
   "execution_count": 16,
   "metadata": {},
   "outputs": [
    {
     "name": "stderr",
     "output_type": "stream",
     "text": [
      " * Warning: It is not possible make equal discretization\n"
     ]
    },
    {
     "name": "stdout",
     "output_type": "stream",
     "text": [
      "dataset name:  WebsitePhishing\n",
      "mfe:  {'attr_conc.mean': 0.04381278290883977, 'attr_conc.sd': 0.11731843631950295, 'attr_ent.mean': 0.943650944548291, 'attr_ent.sd': 0.7495535228418994, 'attr_to_inst': 0.002804161013116237, 'cat_to_num': 0.0, 'class_conc.mean': 0.05596835509741612, 'class_conc.sd': 0.11972100376898279, 'class_ent': 0.9906239227414301, 'eq_num_attr': 19.6717107240766, 'freq_class.mean': 0.5, 'freq_class.sd': 0.08052894052590348, 'inst_to_attr': 356.61290322580646, 'joint_ent.mean': 1.8839170749941592, 'joint_ent.sd': 0.7338870473115354, 'mut_inf.mean': 0.05035779229556205, 'mut_inf.sd': 0.12202448954841856, 'nr_attr': 31.0, 'nr_bin': 22.0, 'nr_cat': 0.0, 'nr_class': 2.0, 'nr_inst': 11055.0, 'nr_num': 31.0, 'ns_ratio': 17.73892602379738}\n"
     ]
    }
   ],
   "source": [
    "solveWebsitePhishingClassification()"
   ]
  },
  {
   "cell_type": "code",
   "execution_count": 17,
   "metadata": {},
   "outputs": [
    {
     "name": "stderr",
     "output_type": "stream",
     "text": [
      " * Warning: It is not possible make equal discretization\n"
     ]
    },
    {
     "name": "stdout",
     "output_type": "stream",
     "text": [
      "dataset name:  Musk\n",
      "mfe:  {'attr_conc.mean': 0.08309144518185785, 'attr_conc.sd': 0.045152766286091314, 'attr_ent.mean': 4.0942926653441845, 'attr_ent.sd': 0.7713418729149654, 'attr_to_inst': 0.025613822370415276, 'cat_to_num': 0.011976047904191617, 'class_conc.mean': 0.0061677917834434765, 'class_conc.sd': 0.005724258538808894, 'class_ent': 0.6200985590130879, 'eq_num_attr': 8.684983449144633, 'freq_class.mean': 0.5, 'freq_class.sd': 0.489123272102971, 'inst_to_attr': 39.0414201183432, 'joint_ent.mean': 4.6429922904797225, 'joint_ent.sd': 0.7341785458402638, 'mut_inf.mean': 0.07139893387754932, 'mut_inf.sd': 0.07716648471851716, 'nr_attr': 169.0, 'nr_bin': 0.0, 'nr_cat': 2.0, 'nr_class': 2.0, 'nr_inst': 6598.0, 'nr_num': 167.0, 'ns_ratio': 56.34389076965746, 'num_to_cat': 83.5}\n"
     ]
    }
   ],
   "source": [
    "solveMuskDatasetClassification() "
   ]
  },
  {
   "cell_type": "code",
   "execution_count": 18,
   "metadata": {},
   "outputs": [
    {
     "name": "stderr",
     "output_type": "stream",
     "text": [
      " * Warning: It is not possible make equal discretization\n"
     ]
    },
    {
     "name": "stdout",
     "output_type": "stream",
     "text": [
      "dataset name:  Penbased\n",
      "mfe:  {'attr_conc.mean': 0.028291618377972727, 'attr_conc.sd': 0.02377735270906875, 'attr_ent.mean': 3.956291457025694, 'attr_ent.sd': 0.4153336358849079, 'attr_to_inst': 0.001455736511691384, 'cat_to_num': 0.0, 'class_conc.mean': 0.09661180583828607, 'class_conc.sd': 0.0532381704339068, 'class_ent': 3.3207767110933735, 'eq_num_attr': 5.20903766418788, 'freq_class.mean': 0.1, 'freq_class.sd': 0.004210756566990803, 'inst_to_attr': 686.9375, 'joint_ent.mean': 6.639565250080347, 'joint_ent.sd': 0.5100132727173804, 'mut_inf.mean': 0.6375029180387204, 'mut_inf.sd': 0.20676087016868827, 'nr_attr': 16.0, 'nr_bin': 0.0, 'nr_cat': 0.0, 'nr_class': 10.0, 'nr_inst': 10991.0, 'nr_num': 16.0, 'ns_ratio': 5.2059189771197225}\n"
     ]
    }
   ],
   "source": [
    "solvePenbasedClassification()"
   ]
  },
  {
   "cell_type": "code",
   "execution_count": 19,
   "metadata": {},
   "outputs": [
    {
     "name": "stderr",
     "output_type": "stream",
     "text": [
      " * Warning: It is not possible make equal discretization\n"
     ]
    },
    {
     "name": "stdout",
     "output_type": "stream",
     "text": [
      "dataset name:  VehiclesSilhouette\n",
      "mfe:  {'attr_conc.mean': 0.3778830028973923, 'attr_conc.sd': 0.21268418452012988, 'attr_ent.mean': 0.6744729797701781, 'attr_ent.sd': 1.3020160572328283, 'attr_to_inst': 0.02127659574468085, 'cat_to_num': 0.0, 'class_conc.mean': 0.39726919329925975, 'class_conc.sd': 0.19788315474925042, 'class_ent': 1.4920242566934, 'eq_num_attr': 34.11930434053296, 'freq_class.mean': 0.3333333333333333, 'freq_class.sd': 0.15089799515442506, 'inst_to_attr': 47.0, 'joint_ent.mean': 2.122767615196919, 'joint_ent.sd': 1.219740371437467, 'mut_inf.mean': 0.04372962126665955, 'mut_inf.sd': 0.08701792588693116, 'nr_attr': 18.0, 'nr_bin': 0.0, 'nr_cat': 0.0, 'nr_class': 3.0, 'nr_inst': 846.0, 'nr_num': 18.0, 'ns_ratio': 14.42370960995291}\n"
     ]
    }
   ],
   "source": [
    "solveVehiclesSilhouetteClassification()"
   ]
  },
  {
   "cell_type": "code",
   "execution_count": 20,
   "metadata": {},
   "outputs": [
    {
     "name": "stderr",
     "output_type": "stream",
     "text": [
      " * Warning: It is not possible make equal discretization\n"
     ]
    },
    {
     "name": "stdout",
     "output_type": "stream",
     "text": [
      "dataset name:  BankMarketing\n",
      "mfe:  {'attr_conc.mean': 0.02037326611908932, 'attr_conc.sd': 0.07165677663497294, 'attr_ent.mean': 2.2438593126161313, 'attr_ent.sd': 1.5127765077719693, 'attr_to_inst': 0.0014334348683031715, 'cat_to_num': 1.2857142857142858, 'class_conc.mean': 0.015645053934445347, 'class_conc.sd': 0.01641663279613026, 'class_ent': 0.998024465973655, 'eq_num_attr': 23.27589831917426, 'freq_class.mean': 0.5, 'freq_class.sd': 0.03699609032547424, 'inst_to_attr': 697.625, 'joint_ent.mean': 3.199005757200962, 'joint_ent.sd': 1.49241480596778, 'mut_inf.mean': 0.042878021388824364, 'mut_inf.sd': 0.05574221229375209, 'nr_attr': 16.0, 'nr_bin': 3.0, 'nr_cat': 9.0, 'nr_class': 2.0, 'nr_inst': 11162.0, 'nr_num': 7.0, 'ns_ratio': 51.33122331528492, 'num_to_cat': 0.7777777777777778}\n"
     ]
    }
   ],
   "source": [
    "solveBankMarketingClassification() "
   ]
  },
  {
   "cell_type": "code",
   "execution_count": 21,
   "metadata": {},
   "outputs": [
    {
     "name": "stdout",
     "output_type": "stream",
     "text": [
      "dataset name:  DevIndex\n",
      "mfe:  {'attr_conc.mean': 0.08858722660460103, 'attr_conc.sd': 0.07998467446651997, 'attr_ent.mean': 2.5775844504542182, 'attr_ent.sd': 0.017175074562126205, 'attr_to_inst': 0.02666666666666667, 'cat_to_num': 0.0, 'class_conc.mean': 0.13739178098944485, 'class_conc.sd': 0.136764466300644, 'class_ent': 1.7804438466836467, 'eq_num_attr': 3.4762819381468155, 'freq_class.mean': 0.25, 'freq_class.sd': 0.14467218513682364, 'inst_to_attr': 37.5, 'joint_ent.mean': 3.8458592963597553, 'joint_ent.sd': 0.5016937026173055, 'mut_inf.mean': 0.5121690007781102, 'mut_inf.sd': 0.5017024568949772, 'nr_attr': 6.0, 'nr_bin': 0.0, 'nr_cat': 0.0, 'nr_class': 4.0, 'nr_inst': 225.0, 'nr_num': 6.0, 'ns_ratio': 4.032683443430266}\n"
     ]
    }
   ],
   "source": [
    "solveDevIndexClassification() "
   ]
  },
  {
   "cell_type": "code",
   "execution_count": 22,
   "metadata": {},
   "outputs": [
    {
     "name": "stderr",
     "output_type": "stream",
     "text": [
      " * Warning: It is not possible make equal discretization\n"
     ]
    },
    {
     "name": "stdout",
     "output_type": "stream",
     "text": [
      "dataset name:  TravelInsurance\n",
      "mfe:  {'attr_conc.mean': 0.19041589623804792, 'attr_conc.sd': 0.25802247975279385, 'attr_ent.mean': 3.0198553292004298, 'attr_ent.sd': 1.760756998239279, 'attr_to_inst': 0.00014212171935697816, 'cat_to_num': 1.25, 'class_conc.mean': 0.003054362581661018, 'class_conc.sd': 0.0034382111582600796, 'class_ent': 0.1101720962924944, 'eq_num_attr': 13.763692764883277, 'freq_class.mean': 0.5, 'freq_class.sd': 0.6864047634952382, 'inst_to_attr': 7036.222222222223, 'joint_ent.mean': 3.1220228806244426, 'joint_ent.sd': 1.7594213627747446, 'mut_inf.mean': 0.00800454486848092, 'mut_inf.sd': 0.005083349779529738, 'nr_attr': 9.0, 'nr_bin': 2.0, 'nr_cat': 5.0, 'nr_class': 2.0, 'nr_inst': 63326.0, 'nr_num': 4.0, 'ns_ratio': 376.267587204309, 'num_to_cat': 0.8}\n"
     ]
    }
   ],
   "source": [
    "solveTravelInsuranceClasification() "
   ]
  },
  {
   "cell_type": "code",
   "execution_count": 23,
   "metadata": {},
   "outputs": [
    {
     "name": "stderr",
     "output_type": "stream",
     "text": [
      " * Warning: It is not possible make equal discretization\n"
     ]
    },
    {
     "name": "stdout",
     "output_type": "stream",
     "text": [
      "dataset name:  IncomeEvaluation\n",
      "mfe:  {'attr_conc.mean': 0.04830237682447616, 'attr_conc.sd': 0.1395481952339741, 'attr_ent.mean': 2.2197528515718576, 'attr_ent.sd': 1.5139967849269165, 'attr_to_inst': 0.00042996222474739717, 'cat_to_num': 1.3333333333333333, 'class_conc.mean': 0.02703239097275378, 'class_conc.sd': 0.03320210419262275, 'class_ent': 0.7963839552022132, 'eq_num_attr': 12.006187880013178, 'freq_class.mean': 0.5, 'freq_class.sd': 0.3665506390973169, 'inst_to_attr': 2325.785714285714, 'joint_ent.mean': 2.9498056812610374, 'joint_ent.sd': 1.5033030990636995, 'mut_inf.mean': 0.0663311255130333, 'mut_inf.sd': 0.05319818541302973, 'nr_attr': 14.0, 'nr_bin': 1.0, 'nr_cat': 8.0, 'nr_class': 2.0, 'nr_inst': 32561.0, 'nr_num': 6.0, 'ns_ratio': 32.464724658346135, 'num_to_cat': 0.75}\n"
     ]
    }
   ],
   "source": [
    "solveIncomeEvaluationClassification()"
   ]
  },
  {
   "cell_type": "code",
   "execution_count": 21,
   "metadata": {
    "scrolled": true
   },
   "outputs": [],
   "source": [
    "# with open('result.json', 'w') as outfile:\n",
    "#     json.dump(json_result, outfile)\n",
    "\n",
    "# with open('mfe_result.json', 'w') as outfile:\n",
    "#     json.dump(json_mfe_result, outfile)"
   ]
  },
  {
   "cell_type": "code",
   "execution_count": 24,
   "metadata": {},
   "outputs": [],
   "source": [
    "def euclidean(v1, v2):\n",
    "    return sum((p-q)**2 for p, q in zip(v1, v2)) ** .5\n",
    "\n",
    "def calculates_metafeature_similarity(listA, listB):\n",
    "    arrayAuxA = []\n",
    "    arrayAuxB = []\n",
    "        \n",
    "    for i in listA:\n",
    "        for j in listB:\n",
    "            if(i == j):\n",
    "                arrayAuxA.append(listA[i])\n",
    "                arrayAuxB.append(listB[j])\n",
    "                \n",
    "    #print('Resultado Array A'.rjust(57), 'Resultado Array B'.rjust(40))\n",
    "#     for i in range(0, len(listA)):\n",
    "#         for j in range(0, len(listB)):\n",
    "#             if(math.isnan(listA[1][i]) == True or math.isnan(listB[1][j]) == True):\n",
    "#                 continue\n",
    "                \n",
    "#             if(listA[0][i] == listB[0][j]):\n",
    "#                 #print('%s %s %s' % (listA[0][i].ljust(40), str(listA[1][i]).ljust(40), str(listB[1][j])))\n",
    "#                 arrayAuxA.append(listA[1][i])\n",
    "#                 arrayAuxB.append(listB[1][j])\n",
    "    \n",
    "    #return (1 - spatial.distance.cosine(arrayAuxA, arrayAuxB))\n",
    "    return euclidean(arrayAuxA, arrayAuxB)"
   ]
  },
  {
   "cell_type": "code",
   "execution_count": 25,
   "metadata": {},
   "outputs": [
    {
     "name": "stdout",
     "output_type": "stream",
     "text": [
      "Resultado para Iris e Iris\n",
      "0.0\n",
      "Resultado para Iris e Wine\n",
      "38.97326781068882\n",
      "Resultado para Iris e Breast Cancer\n",
      "421.0830375962489\n",
      "Resultado para Iris e Diabetes\n",
      "622.0745275557308\n",
      "Resultado para Iris e BankNote\n",
      "1259.6864417561487\n",
      "Resultado para Iris e Glass\n",
      "66.12679717280945\n",
      "Resultado para Iris e IndianLiver\n",
      "436.1308656552664\n",
      "Resultado para Iris e ObesityLevelBasedOnEatingHabits\n",
      "1963.355137703559\n",
      "Resultado para Iris e WebsitePhishing\n",
      "10909.783673663162\n",
      "Resultado para Iris e Musk\n",
      "6452.40625233598\n",
      "Resultado para Iris e Penbased\n",
      "10860.452558652647\n",
      "Resultado para Iris e VehiclesSilhouette\n",
      "697.2131201102142\n",
      "Resultado para Iris e BankMarketing\n",
      "11031.911919808694\n",
      "Resultado para Iris e DevIndex\n",
      "75.11998598680881\n",
      "Resultado para Iris e TravelInsurance\n",
      "63563.587042628606\n",
      "Resultado para Iris e IncomeEvaluation\n",
      "32491.69737701376\n"
     ]
    }
   ],
   "source": [
    "for i in range(0, len(dataset_names)):\n",
    "    print(\"Resultado para\", dataset_names[0], \"e\", dataset_names[i])\n",
    "    print(calculates_metafeature_similarity(dataset_answers[0][1], dataset_answers[i][1]))"
   ]
  },
  {
   "cell_type": "code",
   "execution_count": 32,
   "metadata": {},
   "outputs": [
    {
     "name": "stdout",
     "output_type": "stream",
     "text": [
      "Dataset:  Iris\n",
      "Resultado default:  96.0\n",
      "(38.97326781068882, 'Wine', 96.0)\n",
      "(66.12679717280945, 'Glass', 96.66666666666669)\n",
      "(75.11998598680881, 'DevIndex', 96.0)\n",
      "(421.0830375962489, 'Breast Cancer', 96.0)\n",
      "(436.1308656552664, 'IndianLiver', 95.33333333333334)\n",
      "(622.0745275557308, 'Diabetes', 94.66666666666666)\n",
      "(697.2131201102142, 'VehiclesSilhouette', 96.0)\n",
      "(1259.6864417561487, 'BankNote', 96.0)\n",
      "(1963.355137703559, 'ObesityLevelBasedOnEatingHabits', 96.0)\n",
      "(6452.40625233598, 'Musk', 96.0)\n",
      "(10860.452558652647, 'Penbased', 96.0)\n",
      "(10909.783673663162, 'WebsitePhishing', 96.66666666666669)\n",
      "(11031.911919808694, 'BankMarketing', 94.66666666666666)\n",
      "(32491.69737701376, 'IncomeEvaluation', 95.33333333333334)\n",
      "(63563.587042628606, 'TravelInsurance', 94.66666666666666)\n",
      "----------\n",
      "Dataset:  Wine\n",
      "Resultado default:  94.98412698412699\n",
      "(38.0779115043851, 'Glass', 96.09523809523812)\n",
      "(38.97326781068882, 'Iris', 96.09523809523809)\n",
      "(53.62351529651516, 'DevIndex', 97.77777777777779)\n",
      "(391.8093345815493, 'Breast Cancer', 96.66666666666669)\n",
      "(409.92227042014315, 'IndianLiver', 95.53968253968253)\n",
      "(596.946030164369, 'Diabetes', 94.44444444444444)\n",
      "(669.6735782074344, 'VehiclesSilhouette', 96.09523809523809)\n",
      "(1238.7009361106607, 'BankNote', 96.09523809523809)\n",
      "(1936.658191045067, 'ObesityLevelBasedOnEatingHabits', 94.98412698412699)\n",
      "(6424.010224660768, 'Musk', 96.09523809523809)\n",
      "(10833.942868861523, 'Penbased', 96.66666666666669)\n",
      "(10882.47815808317, 'WebsitePhishing', 94.42857142857143)\n",
      "(11005.400214110863, 'BankMarketing', 93.87301587301587)\n",
      "(32465.45075292817, 'IncomeEvaluation', 97.22222222222221)\n",
      "(63538.373295627265, 'TravelInsurance', 93.30158730158729)\n",
      "----------\n",
      "Dataset:  Breast Cancer\n",
      "Resultado default:  97.71619313771154\n",
      "(64.36161615360584, 'IndianLiver', 96.31113181183046)\n",
      "(218.12711473683876, 'Diabetes', 95.78326346840551)\n",
      "(280.7287610892515, 'VehiclesSilhouette', 97.54075454122031)\n",
      "(346.20706999839695, 'DevIndex', 97.18677224033534)\n",
      "(356.335782804889, 'Glass', 96.83589504735289)\n",
      "(391.8093345815493, 'Wine', 97.18677224033534)\n",
      "(421.0830375962489, 'Iris', 96.4834653004192)\n",
      "(866.7198123371195, 'BankNote', 96.48501785437045)\n",
      "(1546.4072246773937, 'ObesityLevelBasedOnEatingHabits', 97.71464058376029)\n",
      "(6032.382192553696, 'Musk', 96.48501785437045)\n",
      "(10443.407408356017, 'Penbased', 97.1883247942866)\n",
      "(10491.475109420768, 'WebsitePhishing', 96.83900015525539)\n",
      "(10614.860581327446, 'BankMarketing', 96.31113181183046)\n",
      "(32075.084135840727, 'IncomeEvaluation', 97.01288619779538)\n",
      "(63149.182422096856, 'TravelInsurance', 95.78171091445427)\n",
      "----------\n",
      "Dataset:  Diabetes\n",
      "Resultado default:  75.26525761819879\n",
      "(99.00525416554781, 'VehiclesSilhouette', 74.61420932009167)\n",
      "(188.97598982053222, 'IndianLiver', 73.57100415923945)\n",
      "(218.12711473683876, 'Breast Cancer', 73.31381037263391)\n",
      "(547.4240870909904, 'DevIndex', 73.57355063237415)\n",
      "(559.8643564273675, 'Glass', 74.22120363296834)\n",
      "(596.946030164369, 'Wine', 73.57355063237415)\n",
      "(622.0745275557308, 'Iris', 75.52330022918258)\n",
      "(653.102920236068, 'BankNote', 73.96400984636277)\n",
      "(1344.0245850431538, 'ObesityLevelBasedOnEatingHabits', 75.39343009931245)\n",
      "(5834.692443439679, 'Musk', 73.96400984636277)\n",
      "(10240.137632443688, 'Penbased', 74.35531788472966)\n",
      "(10290.402419841595, 'WebsitePhishing', 75.65571683218742)\n",
      "(10411.41596138415, 'BankMarketing', 76.82964094728801)\n",
      "(31871.099179533787, 'IncomeEvaluation', 75.65656565656566)\n",
      "(62942.69721287564, 'TravelInsurance', 75.2678040913335)\n",
      "----------\n",
      "Dataset:  BankNote\n",
      "Resultado default:  99.63583278035833\n",
      "(604.6235252185747, 'VehiclesSilhouette', 99.70882548108825)\n",
      "(653.102920236068, 'Diabetes', 98.68719309887192)\n",
      "(768.8165278406517, 'ObesityLevelBasedOnEatingHabits', 99.7085600530856)\n",
      "(839.5034365496642, 'IndianLiver', 99.56284007962839)\n",
      "(866.7198123371195, 'Breast Cancer', 99.63556735235566)\n",
      "(1187.0467316144216, 'DevIndex', 99.63556735235566)\n",
      "(1201.270128287717, 'Glass', 99.78181818181818)\n",
      "(1238.7009361106607, 'Wine', 99.63556735235566)\n",
      "(1259.6864417561487, 'Iris', 99.41712010617118)\n",
      "(5240.131016484258, 'Musk', 99.92727272727272)\n",
      "(9625.171109535931, 'Penbased', 99.56257465162575)\n",
      "(9683.12248084549, 'WebsitePhishing', 99.41712010617121)\n",
      "(9796.51775551355, 'BankMarketing', 98.83370935633708)\n",
      "(31251.97096749431, 'IncomeEvaluation', 99.63556735235566)\n",
      "(62315.550493779934, 'TravelInsurance', 99.05215660252156)\n",
      "----------\n",
      "Dataset:  Glass\n",
      "Resultado default:  64.99446290143965\n",
      "(18.44077351097615, 'DevIndex', 66.85492801771872)\n",
      "(38.0779115043851, 'Wine', 66.85492801771872)\n",
      "(66.12679717280945, 'Iris', 64.0531561461794)\n",
      "(356.335782804889, 'Breast Cancer', 65.91362126245848)\n",
      "(373.1135721744967, 'IndianLiver', 65.42635658914729)\n",
      "(559.8643564273675, 'Diabetes', 58.90365448504984)\n",
      "(633.2579282900663, 'VehiclesSilhouette', 66.84385382059801)\n",
      "(1201.270128287717, 'BankNote', 65.47065337763011)\n",
      "(1900.1198146024817, 'ObesityLevelBasedOnEatingHabits', 65.44850498338872)\n",
      "(6388.188460144681, 'Musk', 65.47065337763011)\n",
      "(10797.390335810756, 'Penbased', 66.84385382059801)\n",
      "(10846.192254980766, 'WebsitePhishing', 61.72757475083057)\n",
      "(10968.8378260184, 'BankMarketing', 57.962347729789585)\n",
      "(32428.823207563182, 'IncomeEvaluation', 64.50719822812847)\n",
      "(63501.47324944714, 'TravelInsurance', 58.39424141749724)\n",
      "----------\n",
      "Dataset:  IndianLiver\n",
      "Resultado default:  69.63748894783377\n",
      "(64.36161615360584, 'Breast Cancer', 67.92808723843206)\n",
      "(188.97598982053222, 'Diabetes', 67.75125257883879)\n",
      "(265.94989190105656, 'VehiclesSilhouette', 69.12466843501326)\n",
      "(361.3861768857849, 'DevIndex', 67.06601827291483)\n",
      "(373.1135721744967, 'Glass', 68.44532861774242)\n",
      "(409.92227042014315, 'Wine', 67.06601827291483)\n",
      "(436.1308656552664, 'Iris', 68.08871205422929)\n",
      "(839.5034365496642, 'BankNote', 66.55319776009432)\n",
      "(1530.4116117268952, 'ObesityLevelBasedOnEatingHabits', 67.58473327438844)\n",
      "(6019.1951766017155, 'Musk', 66.55319776009432)\n",
      "(10427.062344056452, 'Penbased', 69.81284998526378)\n",
      "(10476.350387469805, 'WebsitePhishing', 67.58325965222517)\n",
      "(10598.309959445889, 'BankMarketing', 68.4320660182729)\n",
      "(32058.295153574458, 'IncomeEvaluation', 66.89949896846447)\n",
      "(63130.69363770774, 'TravelInsurance', 68.61921603300914)\n",
      "----------\n",
      "Dataset:  ObesityLevelBasedOnEatingHabits\n",
      "Resultado default:  95.69504666509808\n",
      "(768.8165278406517, 'BankNote', 94.08524083224094)\n",
      "(1268.2316478911905, 'VehiclesSilhouette', 94.32287990319654)\n",
      "(1344.0245850431538, 'Diabetes', 90.62686968505261)\n",
      "(1530.4116117268952, 'IndianLiver', 93.3762450561886)\n",
      "(1546.4072246773937, 'Breast Cancer', 93.8979081935621)\n",
      "(1888.424397646389, 'DevIndex', 94.2283172554424)\n",
      "(1900.1198146024817, 'Glass', 94.98504251957918)\n",
      "(1936.658191045067, 'Wine', 94.2283172554424)\n",
      "(1963.355137703559, 'Iris', 90.15786584204453)\n",
      "(4494.44843609794, 'Musk', 94.08524083224094)\n",
      "(8897.337254739761, 'Penbased', 94.13453889505115)\n",
      "(8946.902040197347, 'WebsitePhishing', 95.0796051673333)\n",
      "(9068.794822773345, 'BankMarketing', 91.38449127760411)\n",
      "(30528.942217707103, 'IncomeEvaluation', 93.28313894210838)\n",
      "(61604.25011586453, 'TravelInsurance', 91.10001904697882)\n",
      "----------\n",
      "Dataset:  WebsitePhishing\n",
      "Resultado default:  95.91135232926277\n",
      "(338.54453303395223, 'Penbased', 96.0018091361375)\n",
      "(360.73388393665994, 'BankMarketing', 95.07914970601539)\n",
      "(4472.7349091422275, 'Musk', 94.880144730891)\n",
      "(8946.902040197347, 'ObesityLevelBasedOnEatingHabits', 95.71234735413839)\n",
      "(9683.12248084549, 'BankNote', 94.880144730891)\n",
      "(10213.744909350115, 'VehiclesSilhouette', 95.28720036182723)\n",
      "(10290.402419841595, 'Diabetes', 94.68113975576662)\n",
      "(10476.350387469805, 'IndianLiver', 95.2962460425147)\n",
      "(10491.475109420768, 'Breast Cancer', 95.83898688376301)\n",
      "(10834.801768652504, 'DevIndex', 95.00678426051559)\n",
      "(10846.192254980766, 'Glass', 95.5857078245138)\n",
      "(10882.47815808317, 'Wine', 95.00678426051559)\n",
      "(10909.783673663162, 'Iris', 94.9706015377657)\n",
      "(21596.003751187, 'IncomeEvaluation', 95.75757575757576)\n",
      "(52697.294504135985, 'TravelInsurance', 95.37765716870196)\n",
      "----------\n",
      "Dataset:  Musk\n",
      "Resultado default:  89.99882831346059\n",
      "(4446.024710651049, 'Penbased', 89.0897374043697)\n",
      "(4472.7349091422275, 'WebsitePhishing', 89.99882831346059)\n",
      "(4494.44843609794, 'ObesityLevelBasedOnEatingHabits', 89.99882831346059)\n",
      "(4617.3569203141, 'BankMarketing', 89.99882831346059)\n",
      "(5240.131016484258, 'BankNote', 90.01397982861214)\n",
      "(5756.127024106875, 'VehiclesSilhouette', 89.99882831346059)\n",
      "(5834.692443439679, 'Diabetes', 89.98367679830909)\n",
      "(6019.1951766017155, 'IndianLiver', 89.99882831346059)\n",
      "(6032.382192553696, 'Breast Cancer', 89.48369977255496)\n",
      "(6377.334746227218, 'DevIndex', 89.13519194982425)\n",
      "(6388.188460144681, 'Glass', 89.99882831346059)\n",
      "(6424.010224660768, 'Wine', 89.13519194982425)\n",
      "(6452.40625233598, 'Iris', 88.68066946952466)\n",
      "(26064.611825286804, 'IncomeEvaluation', 88.86246467709697)\n",
      "(57159.32057703579, 'TravelInsurance', 89.99882831346059)\n",
      "----------\n",
      "Dataset:  Penbased\n",
      "Resultado default:  97.60706847888919\n"
     ]
    },
    {
     "name": "stdout",
     "output_type": "stream",
     "text": [
      "(179.07739428427595, 'BankMarketing', 95.52349670066758)\n",
      "(338.54453303395223, 'WebsitePhishing', 96.54255946432761)\n",
      "(4446.024710651049, 'Musk', 97.3432253307298)\n",
      "(8897.337254739761, 'ObesityLevelBasedOnEatingHabits', 97.72536197071959)\n",
      "(9625.171109535931, 'BankNote', 97.3432253307298)\n",
      "(10165.213194695594, 'VehiclesSilhouette', 97.53429571966082)\n",
      "(10240.137632443688, 'Diabetes', 95.83289368440695)\n",
      "(10427.062344056452, 'IndianLiver', 97.25223351999276)\n",
      "(10443.407408356017, 'Breast Cancer', 97.94372576499948)\n",
      "(10785.581942722407, 'DevIndex', 97.53429158178857)\n",
      "(10797.390335810756, 'Glass', 97.57978748715708)\n",
      "(10833.942868861523, 'Wine', 97.53429158178857)\n",
      "(10860.452558652647, 'Iris', 97.35231623605898)\n",
      "(21632.192985161622, 'IncomeEvaluation', 97.50701472792869)\n",
      "(52720.05042746071, 'TravelInsurance', 95.68729023573873)\n",
      "----------\n",
      "Dataset:  VehiclesSilhouette\n",
      "Resultado default:  96.57361642882003\n",
      "(99.00525416554781, 'Diabetes', 92.79081099895579)\n",
      "(265.94989190105656, 'IndianLiver', 96.21789070657849)\n",
      "(280.7287610892515, 'Breast Cancer', 96.69056735120083)\n",
      "(604.6235252185747, 'BankNote', 96.21719457013575)\n",
      "(622.154827757631, 'DevIndex', 97.04629307344238)\n",
      "(633.2579282900663, 'Glass', 96.8089105464671)\n",
      "(669.6735782074344, 'Wine', 97.04629307344238)\n",
      "(697.2131201102142, 'Iris', 96.216498433693)\n",
      "(1268.2316478911905, 'ObesityLevelBasedOnEatingHabits', 96.5729202923773)\n",
      "(5756.127024106875, 'Musk', 96.21719457013575)\n",
      "(10165.213194695594, 'Penbased', 97.28158719108946)\n",
      "(10213.744909350115, 'WebsitePhishing', 94.79986077271147)\n",
      "(10336.579252352805, 'BankMarketing', 93.02401670727463)\n",
      "(31796.778698686372, 'IncomeEvaluation', 95.86425339366515)\n",
      "(62870.750676612086, 'TravelInsurance', 93.14444831186913)\n",
      "----------\n",
      "Dataset:  BankMarketing\n",
      "Resultado default:  80.3986833213752\n",
      "(179.07739428427595, 'Penbased', 80.23736089642654)\n",
      "(360.73388393665994, 'WebsitePhishing', 80.72106733953231)\n",
      "(4617.3569203141, 'Musk', 80.06689330938495)\n",
      "(9068.794822773345, 'ObesityLevelBasedOnEatingHabits', 80.90921129297102)\n",
      "(9796.51775551355, 'BankNote', 80.06689330938495)\n",
      "(10336.579252352805, 'VehiclesSilhouette', 80.8553234554347)\n",
      "(10411.41596138415, 'Diabetes', 80.19258210581903)\n",
      "(10598.309959445889, 'IndianLiver', 80.47015924379663)\n",
      "(10614.860581327446, 'Breast Cancer', 80.22840032294984)\n",
      "(10957.032660970162, 'DevIndex', 80.62256523602464)\n",
      "(10968.8378260184, 'Glass', 79.59232400278006)\n",
      "(11005.400214110863, 'Wine', 80.62256523602464)\n",
      "(11031.911919808694, 'Iris', 79.35945342508191)\n",
      "(21460.862086229263, 'IncomeEvaluation', 80.5688981022685)\n",
      "(52548.70561572967, 'TravelInsurance', 80.40748739580775)\n",
      "----------\n",
      "Dataset:  DevIndex\n",
      "Resultado default:  98.66666666666667\n",
      "(18.44077351097615, 'Glass', 99.11111111111111)\n",
      "(53.62351529651516, 'Wine', 99.11111111111111)\n",
      "(75.11998598680881, 'Iris', 98.22222222222223)\n",
      "(346.20706999839695, 'Breast Cancer', 98.22222222222223)\n",
      "(361.3861768857849, 'IndianLiver', 98.22222222222223)\n",
      "(547.4240870909904, 'Diabetes', 98.22222222222223)\n",
      "(622.154827757631, 'VehiclesSilhouette', 98.66666666666667)\n",
      "(1187.0467316144216, 'BankNote', 98.66666666666667)\n",
      "(1888.424397646389, 'ObesityLevelBasedOnEatingHabits', 98.66666666666667)\n",
      "(6377.334746227218, 'Musk', 98.66666666666667)\n",
      "(10785.581942722407, 'Penbased', 98.66666666666667)\n",
      "(10834.801768652504, 'WebsitePhishing', 98.66666666666667)\n",
      "(10957.032660970162, 'BankMarketing', 98.66666666666667)\n",
      "(32416.88092817833, 'IncomeEvaluation', 98.66666666666667)\n",
      "(63489.030824445676, 'TravelInsurance', 97.77777777777779)\n",
      "----------\n",
      "Dataset:  TravelInsurance\n",
      "Resultado default:  98.4366595893935\n",
      "(31125.418567671946, 'IncomeEvaluation', 98.5298297433611)\n",
      "(52548.70561572967, 'BankMarketing', 98.5361463639691)\n",
      "(52697.294504135985, 'WebsitePhishing', 98.5061424160812)\n",
      "(52720.05042746071, 'Penbased', 98.50772157123319)\n",
      "(57159.32057703579, 'Musk', 98.51877565729716)\n",
      "(61604.25011586453, 'ObesityLevelBasedOnEatingHabits', 98.51719650214517)\n",
      "(62315.550493779934, 'BankNote', 98.51877565729716)\n",
      "(62870.750676612086, 'VehiclesSilhouette', 98.52825058820912)\n",
      "(62942.69721287564, 'Diabetes', 98.5361463639691)\n",
      "(63130.69363770774, 'IndianLiver', 98.52509227790513)\n",
      "(63149.182422096856, 'Breast Cancer', 98.52193396760114)\n",
      "(63489.030824445676, 'DevIndex', 98.5345672088171)\n",
      "(63501.47324944714, 'Glass', 98.49193001971327)\n",
      "(63538.373295627265, 'Wine', 98.5345672088171)\n",
      "(63563.587042628606, 'Iris', 98.5361463639691)\n",
      "----------\n",
      "Dataset:  IncomeEvaluation\n",
      "Resultado default:  87.09499447523399\n",
      "(21460.862086229263, 'BankMarketing', 87.08578448847909)\n",
      "(21596.003751187, 'WebsitePhishing', 86.87080196062233)\n",
      "(21632.192985161622, 'Penbased', 87.1533629018659)\n",
      "(26064.611825286804, 'Musk', 86.53297921261994)\n",
      "(30528.942217707103, 'ObesityLevelBasedOnEatingHabits', 87.20556948850361)\n",
      "(31125.418567671946, 'TravelInsurance', 86.92301892152192)\n",
      "(31251.97096749431, 'BankNote', 86.53297921261994)\n",
      "(31796.778698686372, 'VehiclesSilhouette', 86.82166757017056)\n",
      "(31871.099179533787, 'Diabetes', 86.96908300201714)\n",
      "(32058.295153574458, 'IndianLiver', 86.90459045997967)\n",
      "(32075.084135840727, 'Breast Cancer', 87.1656422554626)\n",
      "(32416.88092817833, 'DevIndex', 86.94143512257287)\n",
      "(32428.823207563182, 'Glass', 86.53604669323232)\n",
      "(32465.45075292817, 'Wine', 86.94143512257287)\n",
      "(32491.69737701376, 'Iris', 87.02130232070351)\n",
      "----------\n"
     ]
    }
   ],
   "source": [
    "file = open('result.json')\n",
    "file_mfe = open('mfe_result.json')\n",
    "data = json.load(file)\n",
    "estimator = xgb.XGBClassifier()    \n",
    "\n",
    "def testHyperparams(dataframe, data):\n",
    "    params = data['params']\n",
    "    \n",
    "#     print('Params: ', params)\n",
    "    \n",
    "    X = dataframe[dataframe.columns[:-1]]\n",
    "    y = dataframe['target']\n",
    "    \n",
    "    for i in params:\n",
    "        if(type(params[i]) != type([])):\n",
    "            params[i] = [(params[i])]\n",
    "    \n",
    "    grid_search = GridSearchCV(\n",
    "        estimator = estimator,\n",
    "        param_grid = params\n",
    "    )\n",
    "    grid_search.fit(X, y)\n",
    "    answer = grid_search.best_score_*100\n",
    "    \n",
    "    return answer\n",
    "\n",
    "def getDatasetInfo(name):\n",
    "    d = ''\n",
    "    for p in data['datasets']:\n",
    "        if(p['name'] == name):\n",
    "            d = p\n",
    "    \n",
    "    return d\n",
    "# for p in data['datasets']:\n",
    "#     if(p['name'] == 'Iris'):\n",
    "#         t1 = p\n",
    "\n",
    "for i in range(0, len(dataset_names)):\n",
    "    d1 = getDatasetInfo(dataset_names[i])\n",
    "    print('Dataset: ', dataset_names[i])\n",
    "    print('Resultado default: ', d1['default_params_result'])\n",
    "    respostas = []\n",
    "    for j in range(0, len(dataset_names)):\n",
    "        if(j == i):\n",
    "            continue\n",
    "#         print('De ', dataset_names[i], 'com ', dataset_names[j])\n",
    "#         print('Distância: ', calculates_metafeature_similarity(dataset_answers[i][1], dataset_answers[j][1]))\n",
    "        d2 = getDatasetInfo(dataset_names[j])\n",
    "#         print('Resultado utilizando os hiperparâmetros: ', testHyperparams(dataframes[i], d2))\n",
    "        # Valor utilizando os hiperparametros / nome do dataset usado / similaridade com ele\n",
    "#         respostas.append((testHyperparams(dataframes[i], d2), dataset_names[j], calculates_metafeature_similarity(dataset_answers[i][1], dataset_answers[j][1])))\n",
    "        respostas.append((calculates_metafeature_similarity(dataset_answers[i][1], dataset_answers[j][1]), dataset_names[j], testHyperparams(dataframes[i], d2)))\n",
    "#         print(dataset_answers[i])\n",
    "#         print('meta_features: ', dataset_answers[i][1])\n",
    "#         print(calculates_metafeature_similarity(dataset_answers[i][1], dataset_answers[j][1]))\n",
    "    \n",
    "    respostas.sort()\n",
    "    for j in respostas:\n",
    "        print(j)\n",
    "    print(\"----------\")"
   ]
  },
  {
   "cell_type": "code",
   "execution_count": null,
   "metadata": {},
   "outputs": [],
   "source": []
  }
 ],
 "metadata": {
  "kernelspec": {
   "display_name": "Python 3",
   "language": "python",
   "name": "python3"
  },
  "language_info": {
   "codemirror_mode": {
    "name": "ipython",
    "version": 3
   },
   "file_extension": ".py",
   "mimetype": "text/x-python",
   "name": "python",
   "nbconvert_exporter": "python",
   "pygments_lexer": "ipython3",
   "version": "3.7.6"
  }
 },
 "nbformat": 4,
 "nbformat_minor": 4
}
